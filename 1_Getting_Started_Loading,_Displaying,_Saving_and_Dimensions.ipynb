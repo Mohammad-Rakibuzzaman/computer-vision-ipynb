{
  "nbformat": 4,
  "nbformat_minor": 0,
  "metadata": {
    "colab": {
      "provenance": [],
      "gpuType": "T4",
      "include_colab_link": true
    },
    "kernelspec": {
      "name": "python3",
      "display_name": "Python 3"
    },
    "accelerator": "GPU"
  },
  "cells": [
    {
      "cell_type": "markdown",
      "metadata": {
        "id": "view-in-github",
        "colab_type": "text"
      },
      "source": [
        "<a href=\"https://colab.research.google.com/github/Mohammad-Rakibuzzaman/computer-vision-ipynb/blob/main/1_Getting_Started_Loading%2C_Displaying%2C_Saving_and_Dimensions.ipynb\" target=\"_parent\"><img src=\"https://colab.research.google.com/assets/colab-badge.svg\" alt=\"Open In Colab\"/></a>"
      ]
    },
    {
      "cell_type": "markdown",
      "metadata": {
        "id": "6Yav3Hz14LTT"
      },
      "source": [
        "![](https://github.com/rajeevratan84/ModernComputerVision/raw/main/logo_MCV_W.png)\n",
        "\n",
        "\n",
        "# **Getting Started**\n",
        "\n",
        "Welcome to your first OpenCV Lesson. Here we'll learn to:\n",
        "1. Import the OpenCV Model in Python\n",
        "2. Load Images\n",
        "3. Display Images\n",
        "4. Save Images\n",
        "5. Getting the Image Dimensions\n"
      ]
    },
    {
      "cell_type": "code",
      "metadata": {
        "id": "joH2Ej344IvO"
      },
      "source": [
        "# This is how we import OpenCV, we can't use OpenCV's functions without first doing this\n",
        "import cv2"
      ],
      "execution_count": null,
      "outputs": []
    },
    {
      "cell_type": "code",
      "metadata": {
        "id": "vBXBIpWvDfId",
        "colab": {
          "base_uri": "https://localhost:8080/"
        },
        "outputId": "bc8c02a1-13b4-4f23-9a61-d6a6db3834fd"
      },
      "source": [
        "# Let's see what version we're running\n",
        "print(cv2.__version__)"
      ],
      "execution_count": null,
      "outputs": [
        {
          "output_type": "stream",
          "name": "stdout",
          "text": [
            "4.10.0\n"
          ]
        }
      ]
    },
    {
      "cell_type": "markdown",
      "metadata": {
        "id": "9cFg2H5QFD-I"
      },
      "source": [
        "### **Dowloading Images**\n",
        "\n",
        "If using Google Colab, we'll have to **upload our image**.\n",
        "\n",
        "Colab is a Jupyther Notebook environment that runs on the **cloud** using Google's servers. As such, any file we wish to use needs to be uploaded to their servers."
      ]
    },
    {
      "cell_type": "code",
      "metadata": {
        "id": "tIFb_nrGFnOL",
        "colab": {
          "base_uri": "https://localhost:8080/"
        },
        "outputId": "61ff1583-81d0-46c6-8104-dcbf068d2b7f"
      },
      "source": [
        "# Download and unzip our images\n",
        "!wget https://moderncomputervision.s3.eu-west-2.amazonaws.com/images.zip\n",
        "!unzip -qq images.zip"
      ],
      "execution_count": null,
      "outputs": [
        {
          "output_type": "stream",
          "name": "stdout",
          "text": [
            "--2025-01-19 14:54:44--  https://moderncomputervision.s3.eu-west-2.amazonaws.com/images.zip\n",
            "Resolving moderncomputervision.s3.eu-west-2.amazonaws.com (moderncomputervision.s3.eu-west-2.amazonaws.com)... 52.95.142.118, 52.95.148.194, 52.95.148.118, ...\n",
            "Connecting to moderncomputervision.s3.eu-west-2.amazonaws.com (moderncomputervision.s3.eu-west-2.amazonaws.com)|52.95.142.118|:443... connected.\n",
            "HTTP request sent, awaiting response... 404 Not Found\n",
            "2025-01-19 14:54:45 ERROR 404: Not Found.\n",
            "\n",
            "unzip:  cannot find or open images.zip, images.zip.zip or images.zip.ZIP.\n"
          ]
        }
      ]
    },
    {
      "cell_type": "markdown",
      "metadata": {
        "id": "ATai7rkwRidF"
      },
      "source": [
        "### **Loading Images**"
      ]
    },
    {
      "cell_type": "code",
      "metadata": {
        "id": "7rUrYNiGDg7R"
      },
      "source": [
        "# Load an image using 'imread' specifying the path to image\n",
        "image = cv2.imread('./images/castara.jpeg')"
      ],
      "execution_count": null,
      "outputs": []
    },
    {
      "cell_type": "markdown",
      "metadata": {
        "id": "Ra_lo5bMR-KA"
      },
      "source": [
        "### **Displaying Images**"
      ]
    },
    {
      "cell_type": "code",
      "metadata": {
        "id": "OlXA6k3oDoGn",
        "colab": {
          "base_uri": "https://localhost:8080/",
          "height": 193
        },
        "outputId": "d2afc4d1-ad09-419c-c31a-94f49926e77c"
      },
      "source": [
        " from matplotlib import pyplot as plt\n",
        "\n",
        "#Show the image with matplotlib\n",
        "plt.imshow(cv2.cvtColor(image, cv2.COLOR_BGR2RGB))\n",
        "plt.show()"
      ],
      "execution_count": null,
      "outputs": [
        {
          "output_type": "error",
          "ename": "error",
          "evalue": "OpenCV(4.10.0) /io/opencv/modules/imgproc/src/color.cpp:196: error: (-215:Assertion failed) !_src.empty() in function 'cvtColor'\n",
          "traceback": [
            "\u001b[0;31m---------------------------------------------------------------------------\u001b[0m",
            "\u001b[0;31merror\u001b[0m                                     Traceback (most recent call last)",
            "\u001b[0;32m<ipython-input-6-99f54d1e5edd>\u001b[0m in \u001b[0;36m<cell line: 0>\u001b[0;34m()\u001b[0m\n\u001b[1;32m      2\u001b[0m \u001b[0;34m\u001b[0m\u001b[0m\n\u001b[1;32m      3\u001b[0m \u001b[0;31m#Show the image with matplotlib\u001b[0m\u001b[0;34m\u001b[0m\u001b[0;34m\u001b[0m\u001b[0m\n\u001b[0;32m----> 4\u001b[0;31m \u001b[0mplt\u001b[0m\u001b[0;34m.\u001b[0m\u001b[0mimshow\u001b[0m\u001b[0;34m(\u001b[0m\u001b[0mcv2\u001b[0m\u001b[0;34m.\u001b[0m\u001b[0mcvtColor\u001b[0m\u001b[0;34m(\u001b[0m\u001b[0mimage\u001b[0m\u001b[0;34m,\u001b[0m \u001b[0mcv2\u001b[0m\u001b[0;34m.\u001b[0m\u001b[0mCOLOR_BGR2RGB\u001b[0m\u001b[0;34m)\u001b[0m\u001b[0;34m)\u001b[0m\u001b[0;34m\u001b[0m\u001b[0;34m\u001b[0m\u001b[0m\n\u001b[0m\u001b[1;32m      5\u001b[0m \u001b[0mplt\u001b[0m\u001b[0;34m.\u001b[0m\u001b[0mshow\u001b[0m\u001b[0;34m(\u001b[0m\u001b[0;34m)\u001b[0m\u001b[0;34m\u001b[0m\u001b[0;34m\u001b[0m\u001b[0m\n",
            "\u001b[0;31merror\u001b[0m: OpenCV(4.10.0) /io/opencv/modules/imgproc/src/color.cpp:196: error: (-215:Assertion failed) !_src.empty() in function 'cvtColor'\n"
          ]
        }
      ]
    },
    {
      "cell_type": "markdown",
      "metadata": {
        "id": "uLjC6A7RQkhu"
      },
      "source": [
        "Let's create a simple function to make displaying our images simpler and easier"
      ]
    },
    {
      "cell_type": "code",
      "metadata": {
        "id": "ycNGZ1A2PiCC"
      },
      "source": [
        "def imshow(title = \"\", image = None):\n",
        "    plt.imshow(cv2.cvtColor(image, cv2.COLOR_BGR2RGB))\n",
        "    plt.title(title)\n",
        "    plt.show()"
      ],
      "execution_count": null,
      "outputs": []
    },
    {
      "cell_type": "code",
      "metadata": {
        "id": "Ju5WwHbCQWHH"
      },
      "source": [
        "# Let's test it out\n",
        "imshow(\"Displaying Our First Image\", image)"
      ],
      "execution_count": null,
      "outputs": []
    },
    {
      "cell_type": "markdown",
      "metadata": {
        "id": "eH6G1-U4Sbq-"
      },
      "source": [
        "### **Saving Images**"
      ]
    },
    {
      "cell_type": "code",
      "metadata": {
        "id": "itt_3dGQQho0"
      },
      "source": [
        "# Simply use 'imwrite' specificing the file name and the image to be saved\n",
        "cv2.imwrite('output.jpg', image)"
      ],
      "execution_count": null,
      "outputs": []
    },
    {
      "cell_type": "code",
      "metadata": {
        "id": "ZGRA1Gm6SgA6"
      },
      "source": [
        "# Or save it as a PNG (Portable Network Graphics) which is a Lossless bitmap image format\n",
        "cv2.imwrite('output.png', image)"
      ],
      "execution_count": null,
      "outputs": []
    },
    {
      "cell_type": "markdown",
      "metadata": {
        "id": "KyyB64YZUBAg"
      },
      "source": [
        "### **Displaying Image Dimensions**\n",
        "\n",
        "Remember Images are arrays:\n",
        "\n",
        "![](https://raw.githubusercontent.com/rajeevratan84/ModernComputerVision/main/array.png?token=ADLZD2HNEL33JAKTYRM3B5C7WMIV4)\n",
        "\n"
      ]
    },
    {
      "cell_type": "markdown",
      "metadata": {
        "id": "k_-PnaX3hg9X"
      },
      "source": [
        "We need to use numpy to perform this operation. Don't worry, numpy will become one of your best friends if you're learning a Data Science and Computer Vision."
      ]
    },
    {
      "cell_type": "code",
      "metadata": {
        "id": "pGfPHo7RXSFj"
      },
      "source": [
        "# Import numpy\n",
        "import numpy as np\n",
        "\n",
        "print(image.shape)"
      ],
      "execution_count": null,
      "outputs": []
    },
    {
      "cell_type": "code",
      "metadata": {
        "id": "H2Fqy4qXiScQ"
      },
      "source": [
        "# To access a dimension, simply index it by using 0, 1 or 2.\n",
        "image.shape[0]"
      ],
      "execution_count": null,
      "outputs": []
    },
    {
      "cell_type": "markdown",
      "metadata": {
        "id": "J0IcYuL_hxrC"
      },
      "source": [
        "You can see the first dimension is the height and it's 960 pixels\n",
        "\n",
        "The second dimension is the width which is 1280 pixels.\n",
        "\n",
        "We can print them out nicely like this:"
      ]
    },
    {
      "cell_type": "code",
      "metadata": {
        "id": "xE9UIeArhubZ"
      },
      "source": [
        "print('Height of Image: {} pixels'.format(int(image.shape[0])))\n",
        "print('Width of Image: {} pixels'.format(int(image.shape[1])))\n",
        "print('Depth of Image: {} colors components'.format(int(image.shape[2])))"
      ],
      "execution_count": null,
      "outputs": []
    },
    {
      "cell_type": "code",
      "metadata": {
        "id": "cOMgHWSpuBxh"
      },
      "source": [],
      "execution_count": null,
      "outputs": []
    }
  ]
}